{
 "cells": [
  {
   "cell_type": "code",
   "execution_count": 1,
   "id": "abd56f7a",
   "metadata": {},
   "outputs": [
    {
     "name": "stdout",
     "output_type": "stream",
     "text": [
      "Requirement already satisfied: beautifulsoup4 in c:\\users\\mr\\anaconda3\\lib\\site-packages (4.11.1)\n",
      "Requirement already satisfied: soupsieve>1.2 in c:\\users\\mr\\anaconda3\\lib\\site-packages (from beautifulsoup4) (2.3.1)\n",
      "Note: you may need to restart the kernel to use updated packages.\n"
     ]
    }
   ],
   "source": [
    "pip install beautifulsoup4"
   ]
  },
  {
   "cell_type": "code",
   "execution_count": 2,
   "id": "1614e738",
   "metadata": {},
   "outputs": [
    {
     "name": "stdout",
     "output_type": "stream",
     "text": [
      "Requirement already satisfied: requests in c:\\users\\mr\\anaconda3\\lib\\site-packages (2.27.1)\n",
      "Requirement already satisfied: charset-normalizer~=2.0.0 in c:\\users\\mr\\anaconda3\\lib\\site-packages (from requests) (2.0.4)\n",
      "Requirement already satisfied: urllib3<1.27,>=1.21.1 in c:\\users\\mr\\anaconda3\\lib\\site-packages (from requests) (1.26.9)\n",
      "Requirement already satisfied: certifi>=2017.4.17 in c:\\users\\mr\\anaconda3\\lib\\site-packages (from requests) (2021.10.8)\n",
      "Requirement already satisfied: idna<4,>=2.5 in c:\\users\\mr\\anaconda3\\lib\\site-packages (from requests) (3.3)\n",
      "Note: you may need to restart the kernel to use updated packages.\n"
     ]
    }
   ],
   "source": [
    "pip install requests"
   ]
  },
  {
   "cell_type": "code",
   "execution_count": 3,
   "id": "f30d69b4",
   "metadata": {},
   "outputs": [],
   "source": [
    "from bs4 import BeautifulSoup"
   ]
  },
  {
   "cell_type": "code",
   "execution_count": 4,
   "id": "869d2d32",
   "metadata": {},
   "outputs": [],
   "source": [
    "import requests"
   ]
  },
  {
   "cell_type": "code",
   "execution_count": 68,
   "id": "ebb58d5f",
   "metadata": {},
   "outputs": [
    {
     "name": "stdout",
     "output_type": "stream",
     "text": [
      "<Response [200]>\n"
     ]
    }
   ],
   "source": [
    "url = \"https://www.pathologyoutlines.com/\"\n",
    "page = requests.get(url)\n",
    "print(page)"
   ]
  },
  {
   "cell_type": "code",
   "execution_count": 77,
   "id": "b26f6269",
   "metadata": {},
   "outputs": [],
   "source": [
    "from csv import writer\n",
    "soup = BeautifulSoup(page.content, 'html.parser')\n",
    "lists = soup.find_all('div',  class_ = \"float_left\")\n",
    "with open('list_item.csv', 'w', encoding = 'utf8', newline='') as f:\n",
    "    thewriter = writer(f)\n",
    "    header = ['textbook  chapters', 'Link']\n",
    "    thewriter.writerow(header)\n",
    "    for i in lists:\n",
    "        title = i.find_all('a')\n",
    "        for j in title:\n",
    "            tempwrite = j.text.replace('\\n', '')\n",
    "            link_write = 'https://www.pathologyoutlines.com/{}/html'\n",
    "            info = [tempwrite, link_write.format(tempwrite)]\n",
    "            thewriter.writerow(info)\n",
    "    "
   ]
  },
  {
   "cell_type": "code",
   "execution_count": 78,
   "id": "19c919f6",
   "metadata": {},
   "outputs": [
    {
     "name": "stdout",
     "output_type": "stream",
     "text": [
      "{'textbook  chapters': '', 'Link': 'https://www.pathologyoutlines.com//html'}\n",
      "{'textbook  chapters': '', 'Link': 'https://www.pathologyoutlines.com//html'}\n",
      "{'textbook  chapters': '', 'Link': 'https://www.pathologyoutlines.com//html'}\n",
      "{'textbook  chapters': '', 'Link': 'https://www.pathologyoutlines.com//html'}\n",
      "{'textbook  chapters': '', 'Link': 'https://www.pathologyoutlines.com//html'}\n",
      "{'textbook  chapters': '', 'Link': 'https://www.pathologyoutlines.com//html'}\n",
      "{'textbook  chapters': ' ', 'Link': 'https://www.pathologyoutlines.com/ /html'}\n",
      "{'textbook  chapters': '', 'Link': 'https://www.pathologyoutlines.com//html'}\n",
      "{'textbook  chapters': '', 'Link': 'https://www.pathologyoutlines.com//html'}\n",
      "{'textbook  chapters': 'Autopsy: Asphyxia', 'Link': 'https://www.pathologyoutlines.com/Autopsy: Asphyxia/html'}\n",
      "{'textbook  chapters': 'Kidney: Renal amyloidosis', 'Link': 'https://www.pathologyoutlines.com/Kidney: Renal amyloidosis/html'}\n",
      "{'textbook  chapters': 'Kidney: Acute tubular necrosis', 'Link': 'https://www.pathologyoutlines.com/Kidney: Acute tubular necrosis/html'}\n",
      "{'textbook  chapters': 'Lab Admin: Laboratory inspection and accreditation', 'Link': 'https://www.pathologyoutlines.com/Lab Admin: Laboratory inspection and accreditation/html'}\n",
      "{'textbook  chapters': 'Molecular markers: CSF3R', 'Link': 'https://www.pathologyoutlines.com/Molecular markers: CSF3R/html'}\n",
      "{'textbook  chapters': 'View more >>', 'Link': 'https://www.pathologyoutlines.com/View more >>/html'}\n",
      "{'textbook  chapters': '', 'Link': 'https://www.pathologyoutlines.com//html'}\n",
      "{'textbook  chapters': ' ', 'Link': 'https://www.pathologyoutlines.com/ /html'}\n",
      "{'textbook  chapters': 'Adrenal gland & paraganglia', 'Link': 'https://www.pathologyoutlines.com/Adrenal gland & paraganglia/html'}\n",
      "{'textbook  chapters': 'Anus & perianal', 'Link': 'https://www.pathologyoutlines.com/Anus & perianal/html'}\n",
      "{'textbook  chapters': 'Appendix', 'Link': 'https://www.pathologyoutlines.com/Appendix/html'}\n",
      "{'textbook  chapters': 'Autopsy & forensics', 'Link': 'https://www.pathologyoutlines.com/Autopsy & forensics/html'}\n",
      "{'textbook  chapters': 'Bladder, ureter & renal pelvis', 'Link': 'https://www.pathologyoutlines.com/Bladder, ureter & renal pelvis/html'}\n",
      "{'textbook  chapters': 'Bone & joints', 'Link': 'https://www.pathologyoutlines.com/Bone & joints/html'}\n",
      "{'textbook  chapters': 'Bone marrow neoplastic', 'Link': 'https://www.pathologyoutlines.com/Bone marrow neoplastic/html'}\n",
      "{'textbook  chapters': 'Bone marrow nonneoplastic', 'Link': 'https://www.pathologyoutlines.com/Bone marrow nonneoplastic/html'}\n",
      "{'textbook  chapters': 'Breast', 'Link': 'https://www.pathologyoutlines.com/Breast/html'}\n",
      "{'textbook  chapters': 'Cervix', 'Link': 'https://www.pathologyoutlines.com/Cervix/html'}\n",
      "{'textbook  chapters': 'Chemistry, toxicology & urinalysis', 'Link': 'https://www.pathologyoutlines.com/Chemistry, toxicology & urinalysis/html'}\n",
      "{'textbook  chapters': 'CNS nontumor', 'Link': 'https://www.pathologyoutlines.com/CNS nontumor/html'}\n",
      "{'textbook  chapters': 'CNS tumor', 'Link': 'https://www.pathologyoutlines.com/CNS tumor/html'}\n",
      "{'textbook  chapters': 'Coagulation', 'Link': 'https://www.pathologyoutlines.com/Coagulation/html'}\n",
      "{'textbook  chapters': 'Colon', 'Link': 'https://www.pathologyoutlines.com/Colon/html'}\n",
      "{'textbook  chapters': 'COVID-19', 'Link': 'https://www.pathologyoutlines.com/COVID-19/html'}\n",
      "{'textbook  chapters': 'Cytopathology', 'Link': 'https://www.pathologyoutlines.com/Cytopathology/html'}\n",
      "{'textbook  chapters': 'Ear', 'Link': 'https://www.pathologyoutlines.com/Ear/html'}\n",
      "{'textbook  chapters': 'Esophagus', 'Link': 'https://www.pathologyoutlines.com/Esophagus/html'}\n",
      "{'textbook  chapters': 'Eye', 'Link': 'https://www.pathologyoutlines.com/Eye/html'}\n",
      "{'textbook  chapters': 'Fallopian tubes & broad ligament', 'Link': 'https://www.pathologyoutlines.com/Fallopian tubes & broad ligament/html'}\n",
      "{'textbook  chapters': 'Gallbladder & extrahep bile ducts', 'Link': 'https://www.pathologyoutlines.com/Gallbladder & extrahep bile ducts/html'}\n",
      "{'textbook  chapters': 'Heart', 'Link': 'https://www.pathologyoutlines.com/Heart/html'}\n",
      "{'textbook  chapters': 'Hematology', 'Link': 'https://www.pathologyoutlines.com/Hematology/html'}\n",
      "{'textbook  chapters': 'Informatics, digital & computational', 'Link': 'https://www.pathologyoutlines.com/Informatics, digital & computational/html'}\n",
      "{'textbook  chapters': 'Kidney nontumor', 'Link': 'https://www.pathologyoutlines.com/Kidney nontumor/html'}\n",
      "{'textbook  chapters': 'Kidney tumor', 'Link': 'https://www.pathologyoutlines.com/Kidney tumor/html'}\n",
      "{'textbook  chapters': 'Lab admin & management', 'Link': 'https://www.pathologyoutlines.com/Lab admin & management/html'}\n",
      "{'textbook  chapters': 'Larynx, hypopharynx & trachea', 'Link': 'https://www.pathologyoutlines.com/Larynx, hypopharynx & trachea/html'}\n",
      "{'textbook  chapters': 'Liver & intrahepatic bile ducts', 'Link': 'https://www.pathologyoutlines.com/Liver & intrahepatic bile ducts/html'}\n",
      "{'textbook  chapters': 'Lung', 'Link': 'https://www.pathologyoutlines.com/Lung/html'}\n",
      "{'textbook  chapters': 'Lymph nodes & spleen', 'Link': 'https://www.pathologyoutlines.com/Lymph nodes & spleen/html'}\n",
      "{'textbook  chapters': 'Lymphoma & related disorders', 'Link': 'https://www.pathologyoutlines.com/Lymphoma & related disorders/html'}\n",
      "{'textbook  chapters': 'Mandible & maxilla', 'Link': 'https://www.pathologyoutlines.com/Mandible & maxilla/html'}\n",
      "{'textbook  chapters': 'Mediastinum', 'Link': 'https://www.pathologyoutlines.com/Mediastinum/html'}\n",
      "{'textbook  chapters': 'Microbiology & parasitology', 'Link': 'https://www.pathologyoutlines.com/Microbiology & parasitology/html'}\n",
      "{'textbook  chapters': 'Molecular markers', 'Link': 'https://www.pathologyoutlines.com/Molecular markers/html'}\n",
      "{'textbook  chapters': 'Muscle & nerve nontumor', 'Link': 'https://www.pathologyoutlines.com/Muscle & nerve nontumor/html'}\n",
      "{'textbook  chapters': 'Nasal cavity & nasopharynx', 'Link': 'https://www.pathologyoutlines.com/Nasal cavity & nasopharynx/html'}\n",
      "{'textbook  chapters': 'Oral cavity & oropharynx', 'Link': 'https://www.pathologyoutlines.com/Oral cavity & oropharynx/html'}\n",
      "{'textbook  chapters': 'Ovary', 'Link': 'https://www.pathologyoutlines.com/Ovary/html'}\n",
      "{'textbook  chapters': 'Pancreas', 'Link': 'https://www.pathologyoutlines.com/Pancreas/html'}\n",
      "{'textbook  chapters': 'Penis & scrotum', 'Link': 'https://www.pathologyoutlines.com/Penis & scrotum/html'}\n",
      "{'textbook  chapters': 'Placenta', 'Link': 'https://www.pathologyoutlines.com/Placenta/html'}\n",
      "{'textbook  chapters': 'Pleura & peritoneum', 'Link': 'https://www.pathologyoutlines.com/Pleura & peritoneum/html'}\n",
      "{'textbook  chapters': 'Prostate gland & seminal vesicles', 'Link': 'https://www.pathologyoutlines.com/Prostate gland & seminal vesicles/html'}\n",
      "{'textbook  chapters': 'Salivary glands', 'Link': 'https://www.pathologyoutlines.com/Salivary glands/html'}\n",
      "{'textbook  chapters': 'Skin melanocytic tumor', 'Link': 'https://www.pathologyoutlines.com/Skin melanocytic tumor/html'}\n",
      "{'textbook  chapters': 'Skin nonmelanocytic tumor', 'Link': 'https://www.pathologyoutlines.com/Skin nonmelanocytic tumor/html'}\n",
      "{'textbook  chapters': 'Skin nontumor', 'Link': 'https://www.pathologyoutlines.com/Skin nontumor/html'}\n",
      "{'textbook  chapters': 'Small intestine & ampulla', 'Link': 'https://www.pathologyoutlines.com/Small intestine & ampulla/html'}\n",
      "{'textbook  chapters': 'Soft tissue', 'Link': 'https://www.pathologyoutlines.com/Soft tissue/html'}\n",
      "{'textbook  chapters': 'Staging', 'Link': 'https://www.pathologyoutlines.com/Staging/html'}\n",
      "{'textbook  chapters': 'Stains & CD markers', 'Link': 'https://www.pathologyoutlines.com/Stains & CD markers/html'}\n",
      "{'textbook  chapters': 'Stomach', 'Link': 'https://www.pathologyoutlines.com/Stomach/html'}\n",
      "{'textbook  chapters': 'Testis & paratestis', 'Link': 'https://www.pathologyoutlines.com/Testis & paratestis/html'}\n",
      "{'textbook  chapters': 'Thyroid & parathyroid', 'Link': 'https://www.pathologyoutlines.com/Thyroid & parathyroid/html'}\n",
      "{'textbook  chapters': 'Transfusion medicine', 'Link': 'https://www.pathologyoutlines.com/Transfusion medicine/html'}\n",
      "{'textbook  chapters': 'Uterus', 'Link': 'https://www.pathologyoutlines.com/Uterus/html'}\n",
      "{'textbook  chapters': 'Vulva, vagina & female urethra', 'Link': 'https://www.pathologyoutlines.com/Vulva, vagina & female urethra/html'}\n",
      "{'textbook  chapters': ' ', 'Link': 'https://www.pathologyoutlines.com/ /html'}\n",
      "{'textbook  chapters': ' ', 'Link': 'https://www.pathologyoutlines.com/ /html'}\n",
      "{'textbook  chapters': 'here', 'Link': 'https://www.pathologyoutlines.com/here/html'}\n",
      "{'textbook  chapters': 'Media Kit', 'Link': 'https://www.pathologyoutlines.com/Media Kit/html'}\n",
      "{'textbook  chapters': 'testimonials', 'Link': 'https://www.pathologyoutlines.com/testimonials/html'}\n",
      "{'textbook  chapters': 'Read more >>', 'Link': 'https://www.pathologyoutlines.com/Read more >>/html'}\n",
      "{'textbook  chapters': 'testimonials', 'Link': 'https://www.pathologyoutlines.com/testimonials/html'}\n",
      "{'textbook  chapters': 'Read more >>', 'Link': 'https://www.pathologyoutlines.com/Read more >>/html'}\n",
      "{'textbook  chapters': 'Home', 'Link': 'https://www.pathologyoutlines.com/Home/html'}\n",
      "{'textbook  chapters': 'About Us', 'Link': 'https://www.pathologyoutlines.com/About Us/html'}\n",
      "{'textbook  chapters': 'Advertise', 'Link': 'https://www.pathologyoutlines.com/Advertise/html'}\n",
      "{'textbook  chapters': 'Amazon.com', 'Link': 'https://www.pathologyoutlines.com/Amazon.com/html'}\n",
      "{'textbook  chapters': 'Authors', 'Link': 'https://www.pathologyoutlines.com/Authors/html'}\n",
      "{'textbook  chapters': 'Blog', 'Link': 'https://www.pathologyoutlines.com/Blog/html'}\n",
      "{'textbook  chapters': 'Board Review', 'Link': 'https://www.pathologyoutlines.com/Board Review/html'}\n",
      "{'textbook  chapters': 'Books', 'Link': 'https://www.pathologyoutlines.com/Books/html'}\n",
      "{'textbook  chapters': 'Cases', 'Link': 'https://www.pathologyoutlines.com/Cases/html'}\n",
      "{'textbook  chapters': 'CME (online)', 'Link': 'https://www.pathologyoutlines.com/CME (online)/html'}\n",
      "{'textbook  chapters': 'Crosswords', 'Link': 'https://www.pathologyoutlines.com/Crosswords/html'}\n",
      "{'textbook  chapters': 'Comment Here', 'Link': 'https://www.pathologyoutlines.com/Comment Here/html'}\n",
      "{'textbook  chapters': 'Conferences / Webinars', 'Link': 'https://www.pathologyoutlines.com/Conferences / Webinars/html'}\n",
      "{'textbook  chapters': 'Contact Us', 'Link': 'https://www.pathologyoutlines.com/Contact Us/html'}\n",
      "{'textbook  chapters': 'CCN', 'Link': 'https://www.pathologyoutlines.com/CCN/html'}\n",
      "{'textbook  chapters': 'Detroit College Promise', 'Link': 'https://www.pathologyoutlines.com/Detroit College Promise/html'}\n",
      "{'textbook  chapters': 'Directory', 'Link': 'https://www.pathologyoutlines.com/Directory/html'}\n",
      "{'textbook  chapters': 'FAQ', 'Link': 'https://www.pathologyoutlines.com/FAQ/html'}\n",
      "{'textbook  chapters': 'Fellowships', 'Link': 'https://www.pathologyoutlines.com/Fellowships/html'}\n",
      "{'textbook  chapters': 'Grants', 'Link': 'https://www.pathologyoutlines.com/Grants/html'}\n",
      "{'textbook  chapters': 'Jobs', 'Link': 'https://www.pathologyoutlines.com/Jobs/html'}\n",
      "{'textbook  chapters': 'Libraries', 'Link': 'https://www.pathologyoutlines.com/Libraries/html'}\n",
      "{'textbook  chapters': 'Merchandise', 'Link': 'https://www.pathologyoutlines.com/Merchandise/html'}\n",
      "{'textbook  chapters': 'Newsletters', 'Link': 'https://www.pathologyoutlines.com/Newsletters/html'}\n",
      "{'textbook  chapters': 'Privacy Policy', 'Link': 'https://www.pathologyoutlines.com/Privacy Policy/html'}\n",
      "{'textbook  chapters': 'Statistics', 'Link': 'https://www.pathologyoutlines.com/Statistics/html'}\n",
      "{'textbook  chapters': 'Testimonials', 'Link': 'https://www.pathologyoutlines.com/Testimonials/html'}\n",
      "{'textbook  chapters': 'Home', 'Link': 'https://www.pathologyoutlines.com/Home/html'}\n",
      "{'textbook  chapters': 'About Us', 'Link': 'https://www.pathologyoutlines.com/About Us/html'}\n",
      "{'textbook  chapters': 'Advertise', 'Link': 'https://www.pathologyoutlines.com/Advertise/html'}\n",
      "{'textbook  chapters': 'Amazon.com', 'Link': 'https://www.pathologyoutlines.com/Amazon.com/html'}\n",
      "{'textbook  chapters': 'Authors', 'Link': 'https://www.pathologyoutlines.com/Authors/html'}\n",
      "{'textbook  chapters': 'Blog', 'Link': 'https://www.pathologyoutlines.com/Blog/html'}\n",
      "{'textbook  chapters': 'Board Review', 'Link': 'https://www.pathologyoutlines.com/Board Review/html'}\n",
      "{'textbook  chapters': 'Books', 'Link': 'https://www.pathologyoutlines.com/Books/html'}\n",
      "{'textbook  chapters': 'Cases', 'Link': 'https://www.pathologyoutlines.com/Cases/html'}\n",
      "{'textbook  chapters': 'CME (online)', 'Link': 'https://www.pathologyoutlines.com/CME (online)/html'}\n",
      "{'textbook  chapters': 'Crosswords', 'Link': 'https://www.pathologyoutlines.com/Crosswords/html'}\n",
      "{'textbook  chapters': 'Comment Here', 'Link': 'https://www.pathologyoutlines.com/Comment Here/html'}\n",
      "{'textbook  chapters': 'Conferences / Webinars', 'Link': 'https://www.pathologyoutlines.com/Conferences / Webinars/html'}\n",
      "{'textbook  chapters': 'Contact Us', 'Link': 'https://www.pathologyoutlines.com/Contact Us/html'}\n",
      "{'textbook  chapters': 'CCN', 'Link': 'https://www.pathologyoutlines.com/CCN/html'}\n",
      "{'textbook  chapters': 'Detroit College Promise', 'Link': 'https://www.pathologyoutlines.com/Detroit College Promise/html'}\n",
      "{'textbook  chapters': 'Directory', 'Link': 'https://www.pathologyoutlines.com/Directory/html'}\n",
      "{'textbook  chapters': 'FAQ', 'Link': 'https://www.pathologyoutlines.com/FAQ/html'}\n",
      "{'textbook  chapters': 'Fellowships', 'Link': 'https://www.pathologyoutlines.com/Fellowships/html'}\n",
      "{'textbook  chapters': 'Grants', 'Link': 'https://www.pathologyoutlines.com/Grants/html'}\n",
      "{'textbook  chapters': 'Jobs', 'Link': 'https://www.pathologyoutlines.com/Jobs/html'}\n",
      "{'textbook  chapters': 'Libraries', 'Link': 'https://www.pathologyoutlines.com/Libraries/html'}\n",
      "{'textbook  chapters': 'Merchandise', 'Link': 'https://www.pathologyoutlines.com/Merchandise/html'}\n",
      "{'textbook  chapters': 'Newsletters', 'Link': 'https://www.pathologyoutlines.com/Newsletters/html'}\n",
      "{'textbook  chapters': 'Privacy Policy', 'Link': 'https://www.pathologyoutlines.com/Privacy Policy/html'}\n",
      "{'textbook  chapters': 'Statistics', 'Link': 'https://www.pathologyoutlines.com/Statistics/html'}\n",
      "{'textbook  chapters': 'Testimonials', 'Link': 'https://www.pathologyoutlines.com/Testimonials/html'}\n",
      "{'textbook  chapters': 'Comments@pathologyoutlines.com', 'Link': 'https://www.pathologyoutlines.com/Comments@pathologyoutlines.com/html'}\n",
      "{'textbook  chapters': '', 'Link': 'https://www.pathologyoutlines.com//html'}\n",
      "{'textbook  chapters': '', 'Link': 'https://www.pathologyoutlines.com//html'}\n",
      "{'textbook  chapters': '', 'Link': 'https://www.pathologyoutlines.com//html'}\n",
      "{'textbook  chapters': '', 'Link': 'https://www.pathologyoutlines.com//html'}\n",
      "{'textbook  chapters': '', 'Link': 'https://www.pathologyoutlines.com//html'}\n"
     ]
    }
   ],
   "source": [
    "import csv\n",
    "read_csv =  r'C:\\Users\\mr\\OneDrive\\Desktop\\Softsensor.ai\\list_item.csv'\n",
    "with open(read_csv, encoding='utf-8-sig') as csvfile:\n",
    "    reader = csv.DictReader(csvfile)\n",
    "    texbook_col = {'textbook chapter' : []}\n",
    "    for record in reader:\n",
    "        print(record)"
   ]
  },
  {
   "cell_type": "code",
   "execution_count": null,
   "id": "c03b3c4a",
   "metadata": {},
   "outputs": [],
   "source": []
  }
 ],
 "metadata": {
  "kernelspec": {
   "display_name": "Python 3 (ipykernel)",
   "language": "python",
   "name": "python3"
  },
  "language_info": {
   "codemirror_mode": {
    "name": "ipython",
    "version": 3
   },
   "file_extension": ".py",
   "mimetype": "text/x-python",
   "name": "python",
   "nbconvert_exporter": "python",
   "pygments_lexer": "ipython3",
   "version": "3.9.12"
  }
 },
 "nbformat": 4,
 "nbformat_minor": 5
}
